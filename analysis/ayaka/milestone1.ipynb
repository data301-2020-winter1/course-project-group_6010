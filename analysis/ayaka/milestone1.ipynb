{
 "cells": [
  {
   "cell_type": "code",
   "execution_count": 3,
   "metadata": {},
   "outputs": [
    {
     "name": "stdout",
     "output_type": "stream",
     "text": [
      "                       Name Platform  Year_of_Release         Genre Publisher  \\\n",
      "0                Wii Sports      Wii           2006.0        Sports  Nintendo   \n",
      "1         Super Mario Bros.      NES           1985.0      Platform  Nintendo   \n",
      "2            Mario Kart Wii      Wii           2008.0        Racing  Nintendo   \n",
      "3         Wii Sports Resort      Wii           2009.0        Sports  Nintendo   \n",
      "4  Pokemon Red/Pokemon Blue       GB           1996.0  Role-Playing  Nintendo   \n",
      "\n",
      "   NA_Sales  EU_Sales  JP_Sales  Other_Sales  Global_Sales  Critic_Score  \\\n",
      "0     41.36     28.96      3.77         8.45         82.53          76.0   \n",
      "1     29.08      3.58      6.81         0.77         40.24           NaN   \n",
      "2     15.68     12.76      3.79         3.29         35.52          82.0   \n",
      "3     15.61     10.93      3.28         2.95         32.77          80.0   \n",
      "4     11.27      8.89     10.22         1.00         31.37           NaN   \n",
      "\n",
      "   Critic_Count User_Score  User_Count Developer Rating  \n",
      "0          51.0          8       322.0  Nintendo      E  \n",
      "1           NaN        NaN         NaN       NaN    NaN  \n",
      "2          73.0        8.3       709.0  Nintendo      E  \n",
      "3          73.0          8       192.0  Nintendo      E  \n",
      "4           NaN        NaN         NaN       NaN    NaN  \n"
     ]
    }
   ],
   "source": [
    "import pandas as pd\n",
    "df=pd.read_csv('../../data/raw/Gamesales.csv')\n",
    "print(df.head())"
   ]
  },
  {
   "cell_type": "code",
   "execution_count": null,
   "metadata": {},
   "outputs": [],
   "source": []
  },
  {
   "cell_type": "code",
   "execution_count": null,
   "metadata": {},
   "outputs": [],
   "source": []
  }
 ],
 "metadata": {
  "kernelspec": {
   "display_name": "Python 3",
   "language": "python",
   "name": "python3"
  },
  "language_info": {
   "codemirror_mode": {
    "name": "ipython",
    "version": 3
   },
   "file_extension": ".py",
   "mimetype": "text/x-python",
   "name": "python",
   "nbconvert_exporter": "python",
   "pygments_lexer": "ipython3",
   "version": "3.8.3"
  }
 },
 "nbformat": 4,
 "nbformat_minor": 4
}
